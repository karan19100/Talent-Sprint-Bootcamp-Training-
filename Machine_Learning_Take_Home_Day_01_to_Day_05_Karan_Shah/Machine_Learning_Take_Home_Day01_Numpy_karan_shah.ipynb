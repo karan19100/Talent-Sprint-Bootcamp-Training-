{
  "nbformat": 4,
  "nbformat_minor": 0,
  "metadata": {
    "colab": {
      "name": "Machine_Learning_Take_Home_Day01_Numpy_karan_shah.ipynb",
      "provenance": [],
      "collapsed_sections": [
        "ic-S03RATomk"
      ]
    },
    "kernelspec": {
      "name": "python3",
      "display_name": "Python 3"
    }
  },
  "cells": [
    {
      "cell_type": "markdown",
      "source": [
        "## **Exercises**"
      ],
      "metadata": {
        "id": "ic-S03RATomk"
      }
    },
    {
      "cell_type": "markdown",
      "metadata": {
        "id": "qwgeAaDqSOm-"
      },
      "source": [
        "#### Exercise 1: Import the numpy package under the name np"
      ]
    },
    {
      "cell_type": "code",
      "metadata": {
        "id": "J44YqJ44QtlU"
      },
      "source": [
        "# Your Code Here\n",
        "import numpy as np"
      ],
      "execution_count": 26,
      "outputs": []
    },
    {
      "cell_type": "markdown",
      "metadata": {
        "id": "_nZ3clmuSVlg"
      },
      "source": [
        "#### Exercise 2: Given an array *X*. Calculate sine, cosine, and tangent of *X*, element-wise.\n",
        "\n",
        "X = np.array([1, 45, 60, 90])"
      ]
    },
    {
      "cell_type": "code",
      "metadata": {
        "id": "A5x5wgJsQ2br",
        "colab": {
          "base_uri": "https://localhost:8080/"
        },
        "outputId": "4b1a6d35-1801-4a88-f403-8508e73565bd"
      },
      "source": [
        "# Your Code Here\n",
        "X = np.array([1, 45, 60, 90])\n",
        "sin = np.sin(X * np.pi / 180)\n",
        "cos = np.cos(X * np.pi / 180)\n",
        "tan = np.tan(X * np.pi / 180)\n",
        "\n",
        "print(sin)\n",
        "print(cos)\n",
        "print(tan)"
      ],
      "execution_count": 27,
      "outputs": [
        {
          "output_type": "stream",
          "name": "stdout",
          "text": [
            "[0.01745241 0.70710678 0.8660254  1.        ]\n",
            "[9.99847695e-01 7.07106781e-01 5.00000000e-01 6.12323400e-17]\n",
            "[1.74550649e-02 1.00000000e+00 1.73205081e+00 1.63312394e+16]\n"
          ]
        }
      ]
    },
    {
      "cell_type": "markdown",
      "metadata": {
        "id": "GMvtbx9iTISy"
      },
      "source": [
        "#### Exercise 3: Given an array *X*. Convert angles from radians to degrees.\n",
        "\n",
        "X = np.array([-np.pi, -np.pi/2, np.pi/2, np.pi])"
      ]
    },
    {
      "cell_type": "code",
      "metadata": {
        "id": "NJqUZmj6S_t1",
        "colab": {
          "base_uri": "https://localhost:8080/"
        },
        "outputId": "b53d48c8-99f7-44b3-8c0e-3f709f8923df"
      },
      "source": [
        "# Your Code Here\n",
        "X = np.array([-np.pi, -np.pi/2, np.pi/2, np.pi])\n",
        "degree = np.degrees(X)\n",
        "degree"
      ],
      "execution_count": 28,
      "outputs": [
        {
          "output_type": "execute_result",
          "data": {
            "text/plain": [
              "array([-180.,  -90.,   90.,  180.])"
            ]
          },
          "metadata": {},
          "execution_count": 28
        }
      ]
    },
    {
      "cell_type": "markdown",
      "metadata": {
        "id": "8hFPkopqTVkp"
      },
      "source": [
        "#### Exercise 4: Given an arrya *X*. Convert angles from degrees to radians.\n",
        "\n",
        "X = np.array([-180.,  -90.,   90.,  180.])"
      ]
    },
    {
      "cell_type": "code",
      "metadata": {
        "id": "1GcvmHC7THVM",
        "colab": {
          "base_uri": "https://localhost:8080/"
        },
        "outputId": "50acbc21-51af-42be-960d-64037276b157"
      },
      "source": [
        "# Your Code Here\n",
        "X = np.array([-180., -90., 90., 180.])\n",
        "radian = np.radians(X)\n",
        "radian"
      ],
      "execution_count": 29,
      "outputs": [
        {
          "output_type": "execute_result",
          "data": {
            "text/plain": [
              "array([-3.14159265, -1.57079633,  1.57079633,  3.14159265])"
            ]
          },
          "metadata": {},
          "execution_count": 29
        }
      ]
    },
    {
      "cell_type": "markdown",
      "metadata": {
        "id": "xppXPZU2Tkm-"
      },
      "source": [
        "#### Exercise 5: Given an array *X*. Calculate hyperbolic sine, hyperbolic cosine, and hyperbolic tangent of *X*, element-wise. \n",
        "\n",
        "X = np.array([-1., 0, 1.])"
      ]
    },
    {
      "cell_type": "code",
      "metadata": {
        "id": "IMcSv22uTgms",
        "colab": {
          "base_uri": "https://localhost:8080/"
        },
        "outputId": "1f54541c-b007-4e8d-c313-fb3991f3349e"
      },
      "source": [
        "# Your Code Here\n",
        "X = np.array([-1., 0, 1.])\n",
        "sinh = np.sinh(X * np.pi / 180)\n",
        "cosh = np.cosh(X * np.pi / 180)\n",
        "tanh = np.tanh(X * np.pi / 180)\n",
        "print(sinh)\n",
        "print(cosh)\n",
        "print(tanh)"
      ],
      "execution_count": 30,
      "outputs": [
        {
          "output_type": "stream",
          "name": "stdout",
          "text": [
            "[-0.01745418  0.          0.01745418]\n",
            "[1.00015231 1.         1.00015231]\n",
            "[-0.01745152  0.          0.01745152]\n"
          ]
        }
      ]
    },
    {
      "cell_type": "markdown",
      "metadata": {
        "id": "ahRXCZSxT0kU"
      },
      "source": [
        "#### Exercise 6: Given an array *X*. Calculate the round, ceil, floor of *X*, element-wise\n",
        "\n",
        "X = np.array([4.1, 2.5, 44.5, 25.9, -1.1, -9.5, -6.9])"
      ]
    },
    {
      "cell_type": "code",
      "metadata": {
        "id": "p83dwIEPT7Ja",
        "colab": {
          "base_uri": "https://localhost:8080/"
        },
        "outputId": "c891d484-fcac-464e-b17b-38e066b7e82c"
      },
      "source": [
        "# Your Code Here\n",
        "X = np.array([4.1, 2.5, 44.5, 25.9, -1.1, -9.5, -6.9])\n",
        "round = np.around(X)\n",
        "floor = np.floor(X)\n",
        "ceil = np.ceil(X)\n",
        "print(round)\n",
        "print(floor)\n",
        "print(ceil)"
      ],
      "execution_count": 31,
      "outputs": [
        {
          "output_type": "stream",
          "name": "stdout",
          "text": [
            "[  4.   2.  44.  26.  -1. -10.  -7.]\n",
            "[  4.   2.  44.  25.  -2. -10.  -7.]\n",
            "[ 5.  3. 45. 26. -1. -9. -6.]\n"
          ]
        }
      ]
    },
    {
      "cell_type": "markdown",
      "metadata": {
        "id": "KzcrhGeFUmVE"
      },
      "source": [
        "#### Exercise 7: Given an array *X*. Calculate the difference between neighboring elements, element-wise.\n",
        "\n",
        "X = np.array([11, 13, 23, 45, 77])"
      ]
    },
    {
      "cell_type": "code",
      "metadata": {
        "id": "bSQpJ5IQUSf0",
        "colab": {
          "base_uri": "https://localhost:8080/"
        },
        "outputId": "7c271325-9234-4773-94a8-a26a535f4ebe"
      },
      "source": [
        "# Your Code Here\n",
        "X = np.array([11, 13, 23, 45, 77])\n",
        "print(\"Original array: \")\n",
        "print(X)\n",
        "\n",
        "print(\"Difference between neighboring elements, element-wise of the array\")\n",
        "print(np.diff(X))"
      ],
      "execution_count": 32,
      "outputs": [
        {
          "output_type": "stream",
          "name": "stdout",
          "text": [
            "Original array: \n",
            "[11 13 23 45 77]\n",
            "Difference between neighboring elements, element-wise of the array\n",
            "[ 2 10 22 32]\n"
          ]
        }
      ]
    },
    {
      "cell_type": "markdown",
      "metadata": {
        "id": "rmSYTiqyVB2x"
      },
      "source": [
        "#### Exercise 8: Given two arrays *X* and *Y*. Find the cross product.\n",
        "\n",
        "X = np.array([1, 2, 3])\n",
        "\n",
        "Y = np.array([4, 5, 6])"
      ]
    },
    {
      "cell_type": "code",
      "metadata": {
        "id": "JqHukc33U3L2",
        "colab": {
          "base_uri": "https://localhost:8080/"
        },
        "outputId": "d5be2064-f889-4f6e-b75e-dd7161daec2f"
      },
      "source": [
        "# Your Code Here\n",
        "X = np.array([1, 2, 3])\n",
        "Y = np.array([4, 5, 6])\n",
        "cross = np.cross(X,Y)\n",
        "cross"
      ],
      "execution_count": 33,
      "outputs": [
        {
          "output_type": "execute_result",
          "data": {
            "text/plain": [
              "array([-3,  6, -3])"
            ]
          },
          "metadata": {},
          "execution_count": 33
        }
      ]
    },
    {
      "cell_type": "markdown",
      "metadata": {
        "id": "eg3qCawdV_1-"
      },
      "source": [
        "#### Exercise 9: Given two arrays *X* and *Y*. Find the dot product.\n",
        "\n",
        "X = np.array([1, 2, 3])\n",
        "\n",
        "Y = np.array([4, 5, 6])"
      ]
    },
    {
      "cell_type": "code",
      "metadata": {
        "id": "S2TgQkEyVa3z",
        "colab": {
          "base_uri": "https://localhost:8080/"
        },
        "outputId": "690a0598-7e8d-4767-cc25-aa507bb3a754"
      },
      "source": [
        "# Your Code Here\n",
        "X = np.array([1, 2, 3])\n",
        "Y = np.array([4, 5, 6])\n",
        "dot = np.dot(X,Y)\n",
        "dot"
      ],
      "execution_count": 34,
      "outputs": [
        {
          "output_type": "execute_result",
          "data": {
            "text/plain": [
              "32"
            ]
          },
          "metadata": {},
          "execution_count": 34
        }
      ]
    },
    {
      "cell_type": "markdown",
      "metadata": {
        "id": "BWPtC69NWUbA"
      },
      "source": [
        "#### Exercise 10: Given two arrays *X* and *Y*. Divide *X* by *Y* element-wise using divide, true_divide, floor_divide functions.\n",
        "\n",
        "X = np.array([1, 2, 3])\n",
        "\n",
        "Y = np.array([4, 5, 6])"
      ]
    },
    {
      "cell_type": "code",
      "metadata": {
        "id": "YI7fbbJ4WspO",
        "colab": {
          "base_uri": "https://localhost:8080/"
        },
        "outputId": "67ca6fc5-a316-4aeb-f055-3e1dcdf202b4"
      },
      "source": [
        "# Your Code Here\n",
        "X = np.array([1, 2, 3])\n",
        "Y = np.array([4, 5, 6])\n",
        "\n",
        "divide = np.divide(X,Y)\n",
        "true_divide = np.true_divide(X,Y)\n",
        "floor_divide = np.floor_divide(X,Y)\n",
        "\n",
        "print(divide)\n",
        "print(true_divide)\n",
        "print(floor_divide)\n"
      ],
      "execution_count": 35,
      "outputs": [
        {
          "output_type": "stream",
          "name": "stdout",
          "text": [
            "[0.25 0.4  0.5 ]\n",
            "[0.25 0.4  0.5 ]\n",
            "[0 0 0]\n"
          ]
        }
      ]
    },
    {
      "cell_type": "markdown",
      "metadata": {
        "id": "GnIn_YWtW0-r"
      },
      "source": [
        "#### Exercise 11: Given two arrays *X* and *Y*. Compute $X^Y$, element-wise.\n",
        "\n",
        "X = np.array([1, 2, 3])\n",
        "\n",
        "Y = np.array([4, 5, 6])"
      ]
    },
    {
      "cell_type": "code",
      "metadata": {
        "id": "rtxR3cJPWury",
        "colab": {
          "base_uri": "https://localhost:8080/"
        },
        "outputId": "6a980073-c937-40f3-b9b2-13aef5d0eb4e"
      },
      "source": [
        "# Your Code Here\n",
        "X = np.array([1, 2, 3])\n",
        "Y = np.array([4, 5, 6])\n",
        "\n",
        "power = np.power(X,Y)\n",
        "power"
      ],
      "execution_count": 36,
      "outputs": [
        {
          "output_type": "execute_result",
          "data": {
            "text/plain": [
              "array([  1,  32, 729])"
            ]
          },
          "metadata": {},
          "execution_count": 36
        }
      ]
    },
    {
      "cell_type": "markdown",
      "metadata": {
        "id": "HCV1xXXSXLUw"
      },
      "source": [
        "#### Exercise 12: Given one array *X* and Y = 3. Compute the remainder of X / Y element-wise using remainder and fmod functions.\n",
        "\n",
        "\n",
        "X = np.array([1, 2, 3])"
      ]
    },
    {
      "cell_type": "code",
      "metadata": {
        "id": "MYHnb66PXd0z",
        "colab": {
          "base_uri": "https://localhost:8080/"
        },
        "outputId": "e4fd79d5-e38a-466e-dc6e-d7cc43dec195"
      },
      "source": [
        "# Your Code Here\n",
        "print(np.remainder(X, 3))\n",
        "print(np.fmod(X,3))"
      ],
      "execution_count": 37,
      "outputs": [
        {
          "output_type": "stream",
          "name": "stdout",
          "text": [
            "[1 2 0]\n",
            "[1 2 0]\n"
          ]
        }
      ]
    },
    {
      "cell_type": "markdown",
      "metadata": {
        "id": "_8iviSU_XvzU"
      },
      "source": [
        "#### Exercise 13:  Given an array *X*. If an element of *X* is smaller than 5, replace it with 4. And if an element of *X* is bigger than 9, replace it with 8.\n",
        "\n",
        "X = np.array([8, 4, 22, 3, 66, 12, 1, 5])"
      ]
    },
    {
      "cell_type": "code",
      "metadata": {
        "id": "aWVTyhUOXpAv"
      },
      "source": [
        "# Your Code Here\n",
        "x = np.array([8, 4, 22, 3, 66, 12, 1, 5])"
      ],
      "execution_count": 38,
      "outputs": []
    },
    {
      "cell_type": "markdown",
      "metadata": {
        "id": "S9I2YYFfg1es"
      },
      "source": [
        "#### Exercise 14: Given an array *X*. Compute the square of *X*, element-wise.\n",
        "\n",
        "X = np.array([2, 3, 4, 5, 6])"
      ]
    },
    {
      "cell_type": "code",
      "metadata": {
        "id": "zmUOYKqVg5tt",
        "colab": {
          "base_uri": "https://localhost:8080/"
        },
        "outputId": "c960a147-72d6-4f0e-d808-f269105190f5"
      },
      "source": [
        "# Your Code Here\n",
        "X = np.array([2, 3, 4, 5, 6])\n",
        "np.square(X)"
      ],
      "execution_count": 39,
      "outputs": [
        {
          "output_type": "execute_result",
          "data": {
            "text/plain": [
              "array([ 4,  9, 16, 25, 36])"
            ]
          },
          "metadata": {},
          "execution_count": 39
        }
      ]
    },
    {
      "cell_type": "markdown",
      "metadata": {
        "id": "cUc_0e5ehFMl"
      },
      "source": [
        "#### Exercise 15: Given an array *X*. Compute the absolute value of *X*.\n",
        "\n",
        "X = np.array([[-44, 3], [4, -3]])"
      ]
    },
    {
      "cell_type": "code",
      "metadata": {
        "id": "I5p5ILAShAKk",
        "colab": {
          "base_uri": "https://localhost:8080/"
        },
        "outputId": "84d88ed9-d585-45df-cac5-57c56392c7f5"
      },
      "source": [
        "X = np.array([[-44, 3], [4, -3]])\n",
        "np.absolute(X)"
      ],
      "execution_count": 40,
      "outputs": [
        {
          "output_type": "execute_result",
          "data": {
            "text/plain": [
              "array([[44,  3],\n",
              "       [ 4,  3]])"
            ]
          },
          "metadata": {},
          "execution_count": 40
        }
      ]
    },
    {
      "cell_type": "markdown",
      "metadata": {
        "id": "ozZ2u2G6hbDu"
      },
      "source": [
        "#### Exercise 16: Given an array *X*. Compute an element-wise indication of the sign of *X*, element-wise.\n",
        "\n",
        "X = np.array([1, 3, 0, -1, -3])"
      ]
    },
    {
      "cell_type": "code",
      "metadata": {
        "id": "dmKpDGslh5fF",
        "colab": {
          "base_uri": "https://localhost:8080/"
        },
        "outputId": "913dee31-bbe5-4dea-d5c1-5276b591cb8d"
      },
      "source": [
        "# Your Code Here\n",
        "X = np.array([1, 3, 0, -1, -3])\n",
        "np.sign(X)"
      ],
      "execution_count": 41,
      "outputs": [
        {
          "output_type": "execute_result",
          "data": {
            "text/plain": [
              "array([ 1,  1,  0, -1, -1])"
            ]
          },
          "metadata": {},
          "execution_count": 41
        }
      ]
    },
    {
      "cell_type": "markdown",
      "metadata": {
        "id": "FBB-R10ch9sj"
      },
      "source": [
        "#### Exercise 17: Create an array of the given shape and populate it with random samples from a uniform distribution over [0, 1)."
      ]
    },
    {
      "cell_type": "code",
      "metadata": {
        "id": "x_p6iY0giKov",
        "colab": {
          "base_uri": "https://localhost:8080/"
        },
        "outputId": "ee1a27e4-73d8-4e70-bb8b-7ef0f6be8c81"
      },
      "source": [
        "# Your Code Here\n",
        "np.random.rand(4,2)"
      ],
      "execution_count": 42,
      "outputs": [
        {
          "output_type": "execute_result",
          "data": {
            "text/plain": [
              "array([[0.48564257, 0.21513475],\n",
              "       [0.46168657, 0.32536923],\n",
              "       [0.4729023 , 0.44211934],\n",
              "       [0.89100583, 0.74327435]])"
            ]
          },
          "metadata": {},
          "execution_count": 42
        }
      ]
    },
    {
      "cell_type": "markdown",
      "metadata": {
        "id": "tpGK4dgBiU1s"
      },
      "source": [
        "#### Exercise 18: Given an array *gaussian*. How do you get the number of dimensions of the array?\n",
        "\n",
        "\n",
        "gaussian = np.random.randn(2 * 3 * 4).reshape((2, 3, 4))"
      ]
    },
    {
      "cell_type": "code",
      "metadata": {
        "id": "KW7bBw22iML2",
        "colab": {
          "base_uri": "https://localhost:8080/"
        },
        "outputId": "060fc660-8d8c-4467-f472-2e3693381d71"
      },
      "source": [
        "# Your Code Here\n",
        "gaussian = np.random.randn(2 * 3 * 4).reshape((2, 3, 4))\n",
        "gaussian.ndim\n"
      ],
      "execution_count": 43,
      "outputs": [
        {
          "output_type": "execute_result",
          "data": {
            "text/plain": [
              "3"
            ]
          },
          "metadata": {},
          "execution_count": 43
        }
      ]
    },
    {
      "cell_type": "markdown",
      "metadata": {
        "id": "3C-hc7xii-DN"
      },
      "source": [
        "#### Exercise 19: Given an array *gaussian*. How do you get the shape of an array?\n",
        "\n",
        "\n",
        "gaussian = np.random.randn(2 * 3 * 4).reshape((2, 3, 4))"
      ]
    },
    {
      "cell_type": "code",
      "metadata": {
        "id": "GxN8bsmFi53f",
        "colab": {
          "base_uri": "https://localhost:8080/"
        },
        "outputId": "97d27522-4855-4665-bd31-7006fcc41f45"
      },
      "source": [
        "# Your Code Here\n",
        "\n",
        "gaussian = np.random.randn(2 * 3 * 4).reshape((2, 3, 4))\n",
        "gaussian.shape"
      ],
      "execution_count": 44,
      "outputs": [
        {
          "output_type": "execute_result",
          "data": {
            "text/plain": [
              "(2, 3, 4)"
            ]
          },
          "metadata": {},
          "execution_count": 44
        }
      ]
    },
    {
      "cell_type": "markdown",
      "metadata": {
        "id": "GBA8PxrmjF-3"
      },
      "source": [
        "#### Exercise 20: Given an array *gaussian*. How do you get the total number of elements in the array?\n",
        "\n",
        "\n",
        "gaussian = np.random.randn(2 * 3 * 4).reshape((2, 3, 4))"
      ]
    },
    {
      "cell_type": "code",
      "metadata": {
        "id": "PbpYir4xjEr6",
        "colab": {
          "base_uri": "https://localhost:8080/"
        },
        "outputId": "b70b30ff-66cc-4cf2-9921-84ce0041852f"
      },
      "source": [
        "# Your Code Here\n",
        "gaussian = np.random.randn(2 * 3 * 4).reshape((2, 3, 4))\n",
        "gaussian.size"
      ],
      "execution_count": 45,
      "outputs": [
        {
          "output_type": "execute_result",
          "data": {
            "text/plain": [
              "24"
            ]
          },
          "metadata": {},
          "execution_count": 45
        }
      ]
    },
    {
      "cell_type": "markdown",
      "metadata": {
        "id": "t9ciOCrRjP57"
      },
      "source": [
        "#### Exercise 21: Given an array *gaussian*. How do you get memory consumed by each item in the array?\n",
        "\n",
        "\n",
        "gaussian = np.random.randn(2 * 3 * 4).reshape((2, 3, 4))"
      ]
    },
    {
      "cell_type": "code",
      "metadata": {
        "id": "iWK0KJNpjMxI",
        "colab": {
          "base_uri": "https://localhost:8080/"
        },
        "outputId": "c638624a-963b-4529-8a82-0cf68f5ccb67"
      },
      "source": [
        "# Your Code Here\n",
        "gaussian = np.random.randn(2 * 3 * 4).reshape((2, 3, 4))\n",
        "gaussian.nbytes"
      ],
      "execution_count": 46,
      "outputs": [
        {
          "output_type": "execute_result",
          "data": {
            "text/plain": [
              "192"
            ]
          },
          "metadata": {},
          "execution_count": 46
        }
      ]
    },
    {
      "cell_type": "markdown",
      "metadata": {
        "id": "orakzs2UjXrL"
      },
      "source": [
        "#### Exercise 22: Given an array *twenty*. How do you access first two rows and three columns\n",
        "\n",
        "twenty = (np.arange(4 * 5)).reshape(4, 5)"
      ]
    },
    {
      "cell_type": "code",
      "metadata": {
        "id": "-Hv2d-AZjWw2",
        "colab": {
          "base_uri": "https://localhost:8080/"
        },
        "outputId": "15a0825a-a32e-4870-c516-aabacd4e2923"
      },
      "source": [
        "# Your Code Here\n",
        "twenty = (np.arange(4 * 5)).reshape(4, 5)\n",
        "twenty[:2, :3]"
      ],
      "execution_count": 47,
      "outputs": [
        {
          "output_type": "execute_result",
          "data": {
            "text/plain": [
              "array([[0, 1, 2],\n",
              "       [5, 6, 7]])"
            ]
          },
          "metadata": {},
          "execution_count": 47
        }
      ]
    },
    {
      "cell_type": "markdown",
      "metadata": {
        "id": "MTiZNOygkDpz"
      },
      "source": [
        "#### Exercise 23: Given an array *twenty*. How do you reverse the order of elements along columns?\n",
        "\n",
        "\n",
        "twenty = (np.arange(4 * 5)).reshape(4, 5) "
      ]
    },
    {
      "cell_type": "code",
      "metadata": {
        "id": "gR9tbU3DkCiK",
        "colab": {
          "base_uri": "https://localhost:8080/"
        },
        "outputId": "a0dd4e96-82da-40c2-f386-cb0a8e921da7"
      },
      "source": [
        "# Your Code Here\n",
        "twenty = (np.arange(4 * 5)).reshape(4, 5)\n",
        "np.fliplr(twenty)"
      ],
      "execution_count": 48,
      "outputs": [
        {
          "output_type": "execute_result",
          "data": {
            "text/plain": [
              "array([[ 4,  3,  2,  1,  0],\n",
              "       [ 9,  8,  7,  6,  5],\n",
              "       [14, 13, 12, 11, 10],\n",
              "       [19, 18, 17, 16, 15]])"
            ]
          },
          "metadata": {},
          "execution_count": 48
        }
      ]
    },
    {
      "cell_type": "markdown",
      "metadata": {
        "id": "EDfAt4wwkQ3j"
      },
      "source": [
        "#### Exercise 24: Given an array *twenty*. How do you reverse the order of elements along rows?\n",
        "\n",
        "\n",
        "twenty = (np.arange(4 * 5)).reshape(4, 5) "
      ]
    },
    {
      "cell_type": "code",
      "metadata": {
        "id": "FZraxHTWkP_7",
        "colab": {
          "base_uri": "https://localhost:8080/"
        },
        "outputId": "44529f03-4d86-454f-e9c5-fc99fc4d0959"
      },
      "source": [
        "# Your Code Here\n",
        "twenty = (np.arange(4 * 5)).reshape(4, 5)\n",
        "np.flipud(twenty)"
      ],
      "execution_count": 49,
      "outputs": [
        {
          "output_type": "execute_result",
          "data": {
            "text/plain": [
              "array([[15, 16, 17, 18, 19],\n",
              "       [10, 11, 12, 13, 14],\n",
              "       [ 5,  6,  7,  8,  9],\n",
              "       [ 0,  1,  2,  3,  4]])"
            ]
          },
          "metadata": {},
          "execution_count": 49
        }
      ]
    },
    {
      "cell_type": "markdown",
      "metadata": {
        "id": "6EjVbcyQknaZ"
      },
      "source": [
        "#### Exercise 25: Given an array *twenty*. How do you shuffle the array along axis - 0\n",
        "\n",
        "\n",
        "twenty = (np.arange(4 * 5)).reshape(4, 5) "
      ]
    },
    {
      "cell_type": "code",
      "metadata": {
        "id": "uMvozBGJkbWd",
        "colab": {
          "base_uri": "https://localhost:8080/"
        },
        "outputId": "a1887dc6-35fd-4f71-c0bd-cd0c538581e0"
      },
      "source": [
        "# Your Code Here\n",
        "twenty = (np.arange(4 * 5)).reshape(4, 5)\n",
        "np.random.shuffle(twenty)\n",
        "twenty"
      ],
      "execution_count": 50,
      "outputs": [
        {
          "output_type": "execute_result",
          "data": {
            "text/plain": [
              "array([[10, 11, 12, 13, 14],\n",
              "       [ 0,  1,  2,  3,  4],\n",
              "       [15, 16, 17, 18, 19],\n",
              "       [ 5,  6,  7,  8,  9]])"
            ]
          },
          "metadata": {},
          "execution_count": 50
        }
      ]
    }
  ]
}