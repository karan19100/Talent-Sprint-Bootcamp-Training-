{
  "nbformat": 4,
  "nbformat_minor": 0,
  "metadata": {
    "colab": {
      "name": "Machine_Learning_Take_Home_Day02_Karan_Shah.ipynb",
      "private_outputs": true,
      "provenance": [],
      "collapsed_sections": []
    },
    "kernelspec": {
      "name": "python3",
      "display_name": "Python 3"
    },
    "language_info": {
      "name": "python"
    }
  },
  "cells": [
    {
      "cell_type": "markdown",
      "source": [
        "## **Problem 01 - Data Cleaning in Store Sales data**\n",
        "A popular Departmental store in Kentucky wants to clean their unstructured daily sales data. They are ready to freelance the data cleaning work. To select the right person for this task they are providing a sample data for cleaning. So this is your turn to prove yourself by cleaning the data to their expectations.\n",
        "\n",
        "Create a noteook with detailed cleaning of the sales_data.csv"
      ],
      "metadata": {
        "id": "ylEalmO48ziQ"
      }
    },
    {
      "cell_type": "code",
      "execution_count": null,
      "metadata": {
        "id": "FpertG_r7-LJ"
      },
      "outputs": [],
      "source": [
        "# Your Code Here\n",
        "import pandas as pd\n",
        "from numpy import random"
      ]
    },
    {
      "cell_type": "code",
      "source": [
        "df = pd.read_csv('/content/sales_data.csv')\n",
        "df"
      ],
      "metadata": {
        "id": "vqHEcuD7OfVh"
      },
      "execution_count": null,
      "outputs": []
    },
    {
      "cell_type": "code",
      "source": [
        "#checking shape of the dataset\n",
        "df.shape"
      ],
      "metadata": {
        "id": "3kcuNL3sOpV5"
      },
      "execution_count": null,
      "outputs": []
    },
    {
      "cell_type": "code",
      "source": [
        "#Checking data types of each variable\n",
        "df.dtypes"
      ],
      "metadata": {
        "id": "c0CFxyQMO0my"
      },
      "execution_count": null,
      "outputs": []
    },
    {
      "cell_type": "code",
      "source": [
        "#Convert the datatype of timestamp column to datetime format\n",
        "df['timestamp'] = pd.to_datetime(df['timestamp'])"
      ],
      "metadata": {
        "id": "fEbU9Yj9O3fp"
      },
      "execution_count": null,
      "outputs": []
    },
    {
      "cell_type": "code",
      "source": [
        "df.dtypes"
      ],
      "metadata": {
        "id": "HLKcccO_PQVy"
      },
      "execution_count": null,
      "outputs": []
    },
    {
      "cell_type": "code",
      "source": [
        "#Handling the Missing values \n",
        "df.isnull().sum()"
      ],
      "metadata": {
        "id": "pAeop92iPRvY"
      },
      "execution_count": null,
      "outputs": []
    },
    {
      "cell_type": "code",
      "source": [
        "def remove_poor_quality_data(df):\n",
        "    df = df.drop_duplicates()\n",
        "    df = df.dropna(subset=['timestamp','sale_amount', 'store_id', \n",
        "                                 'sale_number', \n",
        "                                 'city', 'associate'])\n",
        "    return df\n",
        "\n",
        "df = remove_poor_quality_data(df)"
      ],
      "metadata": {
        "id": "IKfccgLrRoDZ"
      },
      "execution_count": null,
      "outputs": []
    },
    {
      "cell_type": "code",
      "source": [
        "df.isnull().any()"
      ],
      "metadata": {
        "id": "vteAoBQ1R7fr"
      },
      "execution_count": null,
      "outputs": []
    },
    {
      "cell_type": "code",
      "source": [
        "def calculate_store_sales(df):\n",
        "    df['store_total'] = df.groupby('store_id').transform(sum)['sale_amount']\n",
        "    df['associate_total'] = df.groupby('associate').transform(sum)['sale_amount']\n",
        "    df['city_total'] = df.groupby('city')['sale_amount'].transform(sum)\n",
        "    return df"
      ],
      "metadata": {
        "id": "edcpffl4SykP"
      },
      "execution_count": null,
      "outputs": []
    },
    {
      "cell_type": "code",
      "source": [
        "df = calculate_store_sales(df)"
      ],
      "metadata": {
        "id": "E9GIpudFUOz1"
      },
      "execution_count": null,
      "outputs": []
    },
    {
      "cell_type": "code",
      "source": [
        "df.head(10)"
      ],
      "metadata": {
        "id": "UTv76aNCTfMh"
      },
      "execution_count": null,
      "outputs": []
    },
    {
      "cell_type": "markdown",
      "source": [
        "## **Problem 02 - Sort and Plot**\n",
        "Write a function called **```sort_and_plot(x)```** that sort the input sequence x and display the sorted sequence in both ascending and descending order using matplotlib.pyplot. This visualization shows you the result of sorting.\n",
        "\n",
        "* Do not create tick marks for x-axis. \n",
        "* Include legends for points displayed. "
      ],
      "metadata": {
        "id": "AAEll_o489zA"
      }
    },
    {
      "cell_type": "code",
      "source": [
        "from typing import List\n",
        "import matplotlib.pyplot as plt\n",
        "def sort_and_plot(x: List[int]) :\n",
        "    # Write Code Here\n",
        "    a = sorted(x, reverse=True)\n",
        "    a = pd.DataFrame(a)\n",
        "    b = sorted(x, reverse=False)\n",
        "    b = pd.DataFrame(b)\n",
        "\n",
        "    a.reset_index().plot(x = 'index', y = 0, c = 'red', label = 'Decreasing')\n",
        "    plt.tick_params(\n",
        "    axis = 'x',          \n",
        "    which = 'both',      \n",
        "    bottom = False,      \n",
        "    top = False,         \n",
        "    labelbottom = False,)\n",
        "\n",
        "    b.reset_index().plot(x = 'index', y=0, c = 'green', label = 'Increasing')\n",
        "    plt.tick_params(\n",
        "    axis = 'x',          \n",
        "    which = 'both',      \n",
        "    bottom = False,      \n",
        "    top = False,         \n",
        "    labelbottom = False) \n",
        "    return plt.show()"
      ],
      "metadata": {
        "id": "DBIqAx359Y4i"
      },
      "execution_count": null,
      "outputs": []
    },
    {
      "cell_type": "code",
      "source": [
        "x = [67, 34, 26, 89, 78, 99, 34, 10, 56]\n",
        "sort_and_plot(x)"
      ],
      "metadata": {
        "id": "YnD4NxFI9cOZ"
      },
      "execution_count": null,
      "outputs": []
    }
  ]
}