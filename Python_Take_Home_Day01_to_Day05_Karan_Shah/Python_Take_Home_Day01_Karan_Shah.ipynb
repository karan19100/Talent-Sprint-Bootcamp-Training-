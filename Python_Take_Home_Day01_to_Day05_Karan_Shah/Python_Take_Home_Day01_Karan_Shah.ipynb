{
  "nbformat": 4,
  "nbformat_minor": 0,
  "metadata": {
    "colab": {
      "name": "Python_Take_Home_Day01_Karan_Shah.ipynb",
      "provenance": [],
      "collapsed_sections": []
    },
    "kernelspec": {
      "name": "python3",
      "display_name": "Python 3"
    },
    "language_info": {
      "name": "python"
    }
  },
  "cells": [
    {
      "cell_type": "markdown",
      "source": [
        "# **Problems**"
      ],
      "metadata": {
        "id": "SmVT6alTtnbj"
      }
    },
    {
      "cell_type": "markdown",
      "source": [
        "## **Problem 01**\n",
        "\n",
        "### **ROT 13**\n",
        "\n",
        "Implement a function which accepts a string as an argument and generates the ROT13 Caesar Cipher.\n",
        "\n",
        "The ROT-13 (i.e. rotate by 13 places) method is a very simple encryption method, in which one replaces each letter of the alphabet with the 13th letter after it. So, ‘A’ becomes ‘N’, ‘B’ becomes ‘M’ and so on. This method is a special case of the Caesar Cipher, with which Caesar encoded his letters in the ancient Rome.\n",
        "\n",
        "Here is our approach for encoding a given string:\n",
        "\n",
        "* Check if given input has all valid characters, i.e every character is an  alphabet [a - z or A - Z] - function is_string() returns \"True\" if the char is an alphabet.\n",
        "\n",
        "* As the next step we need to add 13 to  character and encode the character- rot13() returns the encoded character of the input character\n",
        "\n",
        "* Now we generate the encoded string using the function - generate_encrypted_string() which returns encoded string"
      ],
      "metadata": {
        "id": "-Z-SQc_TtpW_"
      }
    },
    {
      "cell_type": "code",
      "execution_count": null,
      "metadata": {
        "id": "BES0e4UStik_"
      },
      "outputs": [],
      "source": [
        "# my sudo code logic \n",
        "def rot13(text: str) -> str:\n",
        "    result_text=\"\"\n",
        "    for s in text:\n",
        "        if (s>='a' and s<='z'):\n",
        "            result_text = result_text+chr(ord(s)+13)\n",
        "        elif  (s<='Z' and s>='A'):\n",
        "            result_text+=chr(ord(s)+13)\n",
        "        else:\n",
        "            result_text+=s\n",
        "    return result_text\n"
      ]
    },
    {
      "cell_type": "code",
      "source": [
        "# my Approach\n",
        "\n",
        "def rot13(text: str) -> str:\n",
        "    result_text=\"\"\n",
        "    for char in text:\n",
        "        letter=ord(char)\n",
        "        if (letter>=ord('a') and letter<=ord('z')):\n",
        "            if(letter>ord('m')):\n",
        "                letter-=13\n",
        "            else:\n",
        "                letter+=13\n",
        "        elif  (letter<=ord('Z') and letter>=ord('A')):\n",
        "            if(letter>=ord('M')):\n",
        "                letter-=13\n",
        "            else:\n",
        "                letter+=13\n",
        "        result_text+=chr(letter)\n",
        "    return result_text\n",
        "\n",
        "rot13(\"NPCI Talentsprint\")"
      ],
      "metadata": {
        "colab": {
          "base_uri": "https://localhost:8080/",
          "height": 35
        },
        "id": "FFN07iyOjzkZ",
        "outputId": "30323add-4b8b-4539-81cf-5d6f42082526"
      },
      "execution_count": null,
      "outputs": [
        {
          "output_type": "execute_result",
          "data": {
            "text/plain": [
              "'ACPV Gnyragfcevag'"
            ],
            "application/vnd.google.colaboratory.intrinsic+json": {
              "type": "string"
            }
          },
          "metadata": {},
          "execution_count": 2
        }
      ]
    },
    {
      "cell_type": "markdown",
      "source": [
        "## **Problem 02**\n",
        "\n",
        "### **Find Intersection**\n",
        "\n",
        "Write a function, find_intersection(), that reads a list of two strings:\n",
        "\n",
        "* The first is a list of comma-separated numbers sorted in ascending order\n",
        "* The second element is another list of comma-separated numbers (also sorted)\n",
        "\n",
        "Your goal is to return a string of numbers that occur in both elements of the input list in sorted order. If there is no intersection, return the string **\"No Intersection\"**\n",
        "\n",
        "**Sample Input 1:**\n",
        "\n",
        "[\"1, 3, 4, 7, 13\", \"1, 2, 4, 13, 15\"]\n",
        "\n",
        "**Sample Output 1:**\n",
        "\n",
        "\"1, 4, 13\"\n",
        "\n",
        "**Sample Input 2:**\n",
        "\n",
        "[\"11, 32, 43, 72, 138\", \"12, 26, 24, 113, 150\"]\n",
        "\n",
        "**Sample Output 2:**\n",
        "\n",
        "\"No Intersection\""
      ],
      "metadata": {
        "id": "rN6PPZJmwbND"
      }
    },
    {
      "cell_type": "code",
      "source": [
        "from typing import List\n",
        "\n",
        "def find_intersection(arr: List[str]) -> str:\n",
        "    firstArr = arr[0].split(\", \")\n",
        "    secondArr = arr[1].split(\", \")\n",
        "    intersection = []\n",
        "    for number in firstArr:\n",
        "        if number in secondArr:\n",
        "            intersection.append(number)\n",
        "\n",
        "    if len(intersection) > 0:\n",
        "        return \",\".join(intersection)\n",
        "    else:\n",
        "        return \"No Intersection\"\n",
        "\n",
        "find_intersection([\"1, 3, 4, 7, 13\", \"1, 2, 4, 13, 15\"])"
      ],
      "metadata": {
        "colab": {
          "base_uri": "https://localhost:8080/",
          "height": 35
        },
        "id": "1FtvK2CVTEQr",
        "outputId": "b0ec0d14-b58f-4b6d-9a9b-4904c99095e0"
      },
      "execution_count": null,
      "outputs": [
        {
          "output_type": "execute_result",
          "data": {
            "text/plain": [
              "'1,4,13'"
            ],
            "application/vnd.google.colaboratory.intrinsic+json": {
              "type": "string"
            }
          },
          "metadata": {},
          "execution_count": 3
        }
      ]
    },
    {
      "cell_type": "code",
      "source": [
        "find_intersection([\"11, 32, 43, 72, 138\", \"12, 26, 24, 113, 150\"])"
      ],
      "metadata": {
        "colab": {
          "base_uri": "https://localhost:8080/",
          "height": 35
        },
        "id": "RVtOG7dAT33L",
        "outputId": "6cd74832-f5c9-461d-f232-a58468a5562a"
      },
      "execution_count": null,
      "outputs": [
        {
          "output_type": "execute_result",
          "data": {
            "text/plain": [
              "'No Intersection'"
            ],
            "application/vnd.google.colaboratory.intrinsic+json": {
              "type": "string"
            }
          },
          "metadata": {},
          "execution_count": 4
        }
      ]
    }
  ]
}