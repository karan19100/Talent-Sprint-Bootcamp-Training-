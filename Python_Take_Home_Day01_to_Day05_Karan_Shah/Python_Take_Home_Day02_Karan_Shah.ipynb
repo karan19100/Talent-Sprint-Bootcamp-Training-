{
  "nbformat": 4,
  "nbformat_minor": 0,
  "metadata": {
    "colab": {
      "name": "Python_Take_Home_Day02_Karan_Shah.ipynb",
      "provenance": [],
      "collapsed_sections": []
    },
    "kernelspec": {
      "name": "python3",
      "display_name": "Python 3"
    },
    "language_info": {
      "name": "python"
    }
  },
  "cells": [
    {
      "cell_type": "markdown",
      "source": [
        "# **Problems**"
      ],
      "metadata": {
        "id": "-ebJhzZgAZdI"
      }
    },
    {
      "cell_type": "markdown",
      "source": [
        "## **Problem 01**\n",
        "\n",
        "### **Figures to Words (Western Style)**\n",
        "\n",
        "Write a function to convert figures to words in Western Number System using Dictionary:\n",
        "\n",
        "1367 -> \"One thousand three hundred and sixty seven\"\n",
        "\n",
        "18934345 -> \"Eighteen million nine hundred and thirty four thousand three hundred and forty five\"\n",
        "\n",
        "**Note:** You can assume that the numbers are below 1 trillion"
      ],
      "metadata": {
        "id": "k2L4TwpQAbWc"
      }
    },
    {
      "cell_type": "code",
      "source": [
        "ONES = {0: 'Zero',1: 'One',2: 'Two',3: 'Three',4: 'Four',5: 'Five',6: 'Six',7: 'Seven',8: 'Eight',9: 'Nine'}\n",
        "TWOS = {0: 'Ten',1: 'Eleven',2: 'Twelve',3: 'Thirteen',4: 'Fourteen',5: 'Fifteen',6: 'Sixteen',7: 'Seventeen',8: 'Eighteen',9: 'Nineteen'}\n",
        "TENS = {2: 'Twenty',3: 'Thirty',4: 'Forty',5: 'Fifty',6: 'Sixty',7: 'Seventy',8: 'Eighty',9: 'Ninety',10: 'Hundred'}\n",
        "SUFFIXES = {0: '',1: 'Thousand',2: 'Million',3: 'Billion'}\n",
        "\n",
        "# my code logic\n",
        "def process(number, index):\n",
        "    if number=='0':\n",
        "        return 'Zero'\n",
        "    \n",
        "    length = len(number)\n",
        "    \n",
        "    if(length > 3):\n",
        "        return False\n",
        "    \n",
        "    number = number.zfill(3)\n",
        "    words = ''\n",
        " \n",
        "    hdigit = int(number[0])\n",
        "    tdigit = int(number[1])\n",
        "    odigit = int(number[2])\n",
        "    \n",
        "    words += '' if number[0] == '0' else ONES[hdigit]\n",
        "    if int(number) > 100:\n",
        "      words += ' Hundred and ' if not words == '' else ''\n",
        "    else:\n",
        "      words += ' Hundred' if not words == '' else ''\n",
        "    \n",
        "    if(tdigit > 1):\n",
        "        words += TENS[tdigit]\n",
        "        words += ' '\n",
        "        words += ONES[odigit]\n",
        "    \n",
        "    elif(tdigit == 1):\n",
        "        words += TWOS[(int(tdigit + odigit) % 10) - 1]\n",
        "        \n",
        "    elif(tdigit == 0):\n",
        "        words += ONES[odigit]\n",
        "\n",
        "    if(words.endswith('Zero')):\n",
        "        words = words[:-len('Zero')]\n",
        "    else:\n",
        "        words += ' '\n",
        "     \n",
        "    if(not len(words) == 0):    \n",
        "        words += SUFFIXES[index]\n",
        "        \n",
        "    return words;\n",
        "\n",
        "# my main function \n",
        "def figures2words(n: int) -> str:\n",
        "  length = len(str(n))\n",
        "     \n",
        "  count = length // 3 if length % 3 == 0 else length // 3 + 1\n",
        "  copy = count\n",
        "  words = []\n",
        " \n",
        "  for i in range(length - 1, -1, -3):\n",
        "      words.append(process(str(n)[0 if i - 2 < 0 else i - 2 : i + 1], copy - count))\n",
        "      count -= 1;\n",
        "\n",
        "  final_words = ''\n",
        "  for s in reversed(words):\n",
        "      temp = s + ' '\n",
        "      final_words += temp\n",
        "  return final_words\n",
        "\n",
        "figures2words(189343450)"
      ],
      "metadata": {
        "id": "gSLb_Vmv7LKk",
        "colab": {
          "base_uri": "https://localhost:8080/",
          "height": 35
        },
        "outputId": "d5d8f737-bd10-49f8-ba38-42e89eef768e"
      },
      "execution_count": null,
      "outputs": [
        {
          "output_type": "execute_result",
          "data": {
            "text/plain": [
              "'One Hundred and Eighty Nine Million Three Hundred and Forty Three Thousand Four Hundred and Fifty  '"
            ],
            "application/vnd.google.colaboratory.intrinsic+json": {
              "type": "string"
            }
          },
          "metadata": {},
          "execution_count": 1
        }
      ]
    },
    {
      "cell_type": "markdown",
      "source": [
        "## **Problem 02**\n",
        "\n",
        "### **Roman to Arabic and Arabic to Roman**\n",
        "\n",
        "Implement two functions that converts roman number to arabic number and vice versa\n",
        "\n",
        "Example:\n",
        "\n",
        " > roman2arabic(\"V\") --> 5\n",
        "\n",
        " > arabic2roman(9) --> \"IX\""
      ],
      "metadata": {
        "id": "BQW_KWfjDI7m"
      }
    },
    {
      "cell_type": "code",
      "source": [
        "# roman to arabic \n",
        "def roman2arabic(roman_number: str) -> int:\n",
        "\n",
        "  rom_value = {'I': 1, 'V': 5, 'X': 10, 'L': 50, 'C': 100, 'D': 500, 'M': 1000}\n",
        "  int_value = 0\n",
        "  for i in range(len(roman_number)):\n",
        "      if i > 0 and rom_value[roman_number[i]] > rom_value[roman_number[i - 1]]:\n",
        "          int_value += rom_value[roman_number[i]] - 2 * rom_value[roman_number[i - 1]]\n",
        "      else:\n",
        "          int_value += rom_value[roman_number[i]]\n",
        "  return int_value\n",
        "\n",
        "\n",
        "# arabic to roman \n",
        "def arabic2roman(arabic_number: int) -> str:\n",
        "\n",
        "  \"\"\" Returns roman characters of passed number \"\"\"\n",
        "  if arabic_number < 1:\n",
        "    return \"No Roman for 0\"\n",
        "  \n",
        "  result = \"\"\n",
        "  table = {\n",
        "      1000: \"M\", 900: \"CM\", 500: \"D\", 400: \"CD\", 100: \"C\", 90: \"XC\", \n",
        "      50: \"L\", 40: \"XL\", 10: \"X\", 9: \"IX\", 5: \"V\", 4: \"IV\", 1: \"I\",}\n",
        "  for cap in table:\n",
        "    d, m = divmod(arabic_number, cap)\n",
        "    result += table[cap] * d\n",
        "    arabic_number = m\n",
        "\n",
        "  return result\n",
        "\n",
        "print(roman2arabic(\"V\"))\n",
        "print(arabic2roman(9))"
      ],
      "metadata": {
        "id": "PcdYuvPH7OQt",
        "colab": {
          "base_uri": "https://localhost:8080/"
        },
        "outputId": "81f1a2ed-cf2d-477f-b16c-30b42f327131"
      },
      "execution_count": null,
      "outputs": [
        {
          "output_type": "stream",
          "name": "stdout",
          "text": [
            "5\n",
            "IX\n"
          ]
        }
      ]
    }
  ]
}