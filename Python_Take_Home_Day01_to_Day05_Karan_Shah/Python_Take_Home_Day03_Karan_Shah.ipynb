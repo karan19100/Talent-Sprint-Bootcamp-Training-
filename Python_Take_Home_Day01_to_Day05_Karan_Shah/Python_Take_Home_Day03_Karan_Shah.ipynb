{
  "nbformat": 4,
  "nbformat_minor": 0,
  "metadata": {
    "colab": {
      "name": "Python_Take_Home_Day03_Karan_Shah.ipynb",
      "provenance": [],
      "collapsed_sections": []
    },
    "kernelspec": {
      "name": "python3",
      "display_name": "Python 3"
    },
    "language_info": {
      "name": "python"
    }
  },
  "cells": [
    {
      "cell_type": "markdown",
      "source": [
        "# **Problems**"
      ],
      "metadata": {
        "id": "KxSPHU5JRAsm"
      }
    },
    {
      "cell_type": "markdown",
      "source": [
        "## **Problem 01**\n",
        "\n",
        "### **Diamond Pattern**\n",
        "\n",
        "Construct a pattern like below with the given size.\n",
        "     \n",
        "        *\n",
        "       * *\n",
        "      * * *\n",
        "     * * * *\n",
        "    * * * * *\n",
        "     * * * *\n",
        "      * * *\n",
        "       * *\n",
        "        *\n"
      ],
      "metadata": {
        "id": "yXhiu3aSRC8R"
      }
    },
    {
      "cell_type": "code",
      "execution_count": null,
      "metadata": {
        "id": "Ztckq9TmQqtc"
      },
      "outputs": [],
      "source": [
        "from typing import List\n",
        "\n",
        "STAR, CRLF, SPACE = \"*\", \"\\n\", \" \"\n",
        "LINE_START, LINE_MIDDLE, LINE_END = STAR, SPACE + STAR, \"\"\n",
        "\n",
        "def line(n: int) -> str:\n",
        "    return line_start(n) + line_middle(n) + line_end(n)\n",
        "\n",
        "def line_start(n: int) -> str:\n",
        "    return LINE_START\n",
        "\n",
        "def line_middle(n: int) -> str:\n",
        "    return n * LINE_MIDDLE\n",
        "\n",
        "def line_end(n: int) -> str:\n",
        "    return LINE_END\n",
        "\n",
        "def base_pattern(n: int) -> List[str]:\n",
        "    pattern = []\n",
        "    for line_num in range(n):\n",
        "        pattern.append(line(line_num))\n",
        "\n",
        "    for line_num in range(n-2, -1, -1):\n",
        "        pattern.append(line(line_num))\n",
        "    return pattern\n",
        "base_pattern(5)\n",
        "\n",
        "\n",
        "def format_diamond_pattern(n: int) -> str:\n",
        "    lines = base_pattern(n)\n",
        "    width = n * 2\n",
        "    pattern = []\n",
        "    for line in lines:\n",
        "        pattern.append(line.center(width))\n",
        "    return CRLF.join(pattern)\n"
      ]
    },
    {
      "cell_type": "code",
      "source": [
        "print(format_diamond_pattern(6))"
      ],
      "metadata": {
        "colab": {
          "base_uri": "https://localhost:8080/"
        },
        "id": "noyBn4m8xn3v",
        "outputId": "93e97da6-aaa2-4a02-ef6c-3651b92bc4c6"
      },
      "execution_count": null,
      "outputs": [
        {
          "output_type": "stream",
          "name": "stdout",
          "text": [
            "     *      \n",
            "    * *     \n",
            "   * * *    \n",
            "  * * * *   \n",
            " * * * * *  \n",
            "* * * * * * \n",
            " * * * * *  \n",
            "  * * * *   \n",
            "   * * *    \n",
            "    * *     \n",
            "     *      \n"
          ]
        }
      ]
    },
    {
      "cell_type": "markdown",
      "source": [
        "## **Problem 02**\n",
        "\n",
        "### **Pyramid with \"+-+\" Pattern**\n",
        "\n",
        "Construct a pattern like below with the given size.\n",
        "\n",
        "        +\n",
        "       +-+\n",
        "      +---+\n",
        "     +-----+\n",
        "    +-------+\n"
      ],
      "metadata": {
        "id": "aTIHA1dxSuZu"
      }
    },
    {
      "cell_type": "code",
      "source": [
        "from typing import List\n",
        "\n",
        "STAR, CRLF, SPACE = \"*\", \"\\n\", \" \"\n",
        "LINE_START, LINE_MIDDLE, LINE_END = '+', '-', \"+\"\n",
        "\n",
        "def line(n: int) -> str:\n",
        "    if(n>0):\n",
        "        return line_start(n) + line_middle(n) + line_end(n)\n",
        "    else:\n",
        "        return line_start(n)+line_middle(n)\n",
        "\n",
        "def line_start(n: int) -> str:\n",
        "    return LINE_START\n",
        "\n",
        "def line_middle(n: int) -> str:\n",
        "    return  (2*n-1) * LINE_MIDDLE\n",
        "\n",
        "def line_end(n: int) -> str:\n",
        "    return LINE_END\n",
        "\n",
        "def base_pattern(n: int) -> List[str]:\n",
        "    pattern = []\n",
        "    for line_num in range(n):\n",
        "        pattern.append(line(line_num))\n",
        "    return pattern\n",
        "\n",
        "def format_plus_minus_pyramid(n: int) -> str:\n",
        "    lines = base_pattern(n)\n",
        "    width = n * 2\n",
        "    pattern = []\n",
        "    for line in lines:\n",
        "        pattern.append(line.center(width))\n",
        "    return CRLF.join(pattern)\n",
        "\n",
        "print(format_plus_minus_pyramid(5))"
      ],
      "metadata": {
        "id": "DFLgfGziTA59",
        "colab": {
          "base_uri": "https://localhost:8080/"
        },
        "outputId": "daae6601-37fd-4bf8-ba0c-c10b34b833e2"
      },
      "execution_count": null,
      "outputs": [
        {
          "output_type": "stream",
          "name": "stdout",
          "text": [
            "    +     \n",
            "   +-+    \n",
            "  +---+   \n",
            " +-----+  \n",
            "+-------+ \n"
          ]
        }
      ]
    }
  ]
}