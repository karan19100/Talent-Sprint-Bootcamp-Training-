{
  "nbformat": 4,
  "nbformat_minor": 0,
  "metadata": {
    "colab": {
      "name": "Python_Take_Home_Day04_Karan_Shah.ipynb",
      "provenance": [],
      "collapsed_sections": [
        "tNlmpzRg0m_g"
      ]
    },
    "kernelspec": {
      "name": "python3",
      "display_name": "Python 3"
    },
    "language_info": {
      "name": "python"
    }
  },
  "cells": [
    {
      "cell_type": "markdown",
      "source": [
        "# **Problems**"
      ],
      "metadata": {
        "id": "2xF0vbiW0lOZ"
      }
    },
    {
      "cell_type": "markdown",
      "source": [
        "## **Problem 01**\n",
        "\n",
        "### **Perfect squares with all digits even (using functional paradigm)**\n",
        "\n",
        "Find all 4-digit numbers that are perfect squares and have all four digits even.\n",
        "\n",
        "For example, 6400 is one such number.\n",
        "\n",
        "The expected output is ```[4624, 6084, 6400, 8464]```."
      ],
      "metadata": {
        "id": "tNlmpzRg0m_g"
      }
    },
    {
      "cell_type": "code",
      "source": [
        "# Normal approach \n",
        "from typing import List\n",
        "\n",
        "def perfect_squares_func()-> List[int]:\n",
        "  perfect_squares = []\n",
        "  for i in range(1000,9999):\n",
        "    m = i**0.5\n",
        "    if int(m) == m: \n",
        "      perfect_squares.append((i))\n",
        "  return perfect_squares\n",
        "\n",
        "def even_digits_func() -> List[int]:\n",
        "  even_digits = []\n",
        "  for a in perfect_squares_func():\n",
        "    for b in str(a):\n",
        "      if int(b) % 2 != 0:\n",
        "        break\n",
        "    else:\n",
        "      even_digits.append(a)\n",
        "  return even_digits\n",
        "\n",
        "def even_digit_perfect_squares() -> List[int]:\n",
        "  return even_digits_func()\n",
        "\n",
        "even_digit_perfect_squares()"
      ],
      "metadata": {
        "id": "krm4l-M2Mh6p",
        "outputId": "671a95d5-e033-46ff-f46a-4d481e6a2c91",
        "colab": {
          "base_uri": "https://localhost:8080/"
        }
      },
      "execution_count": null,
      "outputs": [
        {
          "output_type": "execute_result",
          "data": {
            "text/plain": [
              "[4624, 6084, 6400, 8464]"
            ]
          },
          "metadata": {},
          "execution_count": 1
        }
      ]
    },
    {
      "cell_type": "code",
      "execution_count": null,
      "metadata": {
        "id": "6Aw2DRjZ0gJ1",
        "colab": {
          "base_uri": "https://localhost:8080/"
        },
        "outputId": "bd1136f1-e3eb-4e61-91d3-cfab28bc44da"
      },
      "outputs": [
        {
          "output_type": "stream",
          "name": "stdout",
          "text": [
            "[4624, 6084, 6400, 8464]\n"
          ]
        }
      ],
      "source": [
        "# chandra's approach \n",
        "from typing import List\n",
        "import math\n",
        "\n",
        "def is_even(num:int) -> bool:\n",
        "  num=list(str(num))\n",
        "  for i in num:\n",
        "    if i in ('0','2','4','6','8'):\n",
        "      continue\n",
        "    else:\n",
        "      return False\n",
        "  return True\n",
        "\n",
        "def is_sqr(val : int) -> bool:\n",
        "  if val > 0:\n",
        "    sr = int(math.sqrt(val))\n",
        "    return (sr*sr) == val\n",
        "  return False\n",
        "\n",
        "def even_digit_perfect_squares() -> List[int]:\n",
        "    list5=[]\n",
        "    for i in range(1000,10000):\n",
        "      if is_sqr(i):\n",
        "        list5.append(i)\n",
        "    result=list(filter(is_even,(list5)))\n",
        "    return result\n",
        "\n",
        "print(even_digit_perfect_squares())"
      ]
    },
    {
      "cell_type": "markdown",
      "source": [
        "## **Problem 02**\n",
        "\n",
        "### **Pythagorean Triplet**\n",
        "\n",
        "If p is the perimeter of a right angle triangle with integral length sides, ```[a,b,c]```, there are exactly three solutions for ```p = 120```.\n",
        "\n",
        "```[20, 48, 52], [24, 45, 51], [30, 40, 50]```\n",
        "\n",
        "For which value of p ≤ 1000, is the number of solutions maximised?\n",
        "\n"
      ],
      "metadata": {
        "id": "y8qekle923fN"
      }
    },
    {
      "cell_type": "code",
      "source": [
        "from typing import List\n",
        "from collections import Counter\n",
        "\n",
        "def squared(data: int) -> int:\n",
        "  \"\"\" Squares the passed number \"\"\"\n",
        "  return data**2\n",
        "\n",
        "\n",
        "def create_perimeter_list(data: int) -> List[int]:\n",
        "  \"\"\" Returns the perimeter list contining all pythagorean triplet in range data \"\"\"\n",
        "  perimeter_list = []\n",
        "\n",
        "  for a in range(1, data):\n",
        "    for b in range(a, data):\n",
        "      c = (squared(a)+squared(b))**0.5\n",
        "      if  a+b+c <= 1000 and int(c) == c:\n",
        "        perimeter_list.append(a+b+c)\n",
        "  return perimeter_list\n",
        "\n",
        "def number_of_maximised_solution(limit: int):\n",
        "  \"\"\" Returns the maximized perimeter of pythagorean triplets \"\"\"\n",
        "  maximised_solution = Counter(create_perimeter_list(limit))\n",
        "  return maximised_solution.most_common(1)[0]\n",
        "\n",
        "print(number_of_maximised_solution(1000))"
      ],
      "metadata": {
        "id": "-TnqEycy2jXr",
        "colab": {
          "base_uri": "https://localhost:8080/"
        },
        "outputId": "1e3ee3bf-603d-4327-9cd7-327de4ba7865"
      },
      "execution_count": null,
      "outputs": [
        {
          "output_type": "stream",
          "name": "stdout",
          "text": [
            "(840.0, 8)\n"
          ]
        }
      ]
    }
  ]
}