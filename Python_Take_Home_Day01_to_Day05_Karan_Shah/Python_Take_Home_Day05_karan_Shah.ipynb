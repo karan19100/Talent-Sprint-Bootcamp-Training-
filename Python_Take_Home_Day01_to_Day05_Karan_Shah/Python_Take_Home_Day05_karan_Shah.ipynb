{
  "nbformat": 4,
  "nbformat_minor": 0,
  "metadata": {
    "colab": {
      "name": "Python_Take_Home_Day05_karan_Shah.ipynb",
      "provenance": [],
      "collapsed_sections": []
    },
    "kernelspec": {
      "name": "python3",
      "display_name": "Python 3"
    },
    "language_info": {
      "name": "python"
    }
  },
  "cells": [
    {
      "cell_type": "markdown",
      "source": [
        "# **Problems**"
      ],
      "metadata": {
        "id": "2xF0vbiW0lOZ"
      }
    },
    {
      "cell_type": "markdown",
      "source": [
        "## **Problem 01**\n",
        "\n",
        "### **Sales Person**\n",
        "\n",
        "Suppose you are an owner of a company. You have several salespersons. They buy products from the factories and sell products to people.\n",
        "\n",
        "* Create a class called Salesperson as follows:\n",
        "* Each instance of the Salesperson class will hold the following information: name, record, and value\n",
        "    * The name is a string, which is the salesperson's name.\n",
        "    * The record is a dictionary of products in stock.\n",
        "        - For the record, the key is the item name, and the value is a list with two elements ```[cost, quantity]```.\n",
        "        - Cost is the cost of the item, quantity is the quantity of the item the salespersons have.\n",
        "    * Value is a float number, which is their current profit/loss.\n",
        "\n",
        "**Your task is to implement the following class methods:**\n",
        "\n",
        "1. **```__init__(self, name)```:** the constructor creates a salesperson instance with a given name. After initialization, the record is an empty dictionary and the value is 0.\n",
        "2. **```get_name(self)```:** returns the name of the salesman\n",
        "3. **```buy_pro(self, product_name, market_price, quantity)```:** buy a product, ```(product_name, market_price, quantity)```, to owner's record. You need to update the record and value. If the product is in the record, update the values of ```record[product_name]```; if not, create a new key.\n",
        "4. **```sell_pro(self, product_name, market_price, quantity)```:** sell a product, ```(product_name, market_price, quantity)```, to owner's record. You need to update the record and value. Update the values of ```record[product_name]```. After the update, if the quantity becomes zero, delete the key.\n",
        "5. **```get_record(self)```:** returns the owner's product record.\n",
        "6. **```get_value(self)```:** returns the value in the account."
      ],
      "metadata": {
        "id": "tNlmpzRg0m_g"
      }
    },
    {
      "cell_type": "code",
      "execution_count": null,
      "metadata": {
        "id": "6Aw2DRjZ0gJ1",
        "colab": {
          "base_uri": "https://localhost:8080/"
        },
        "outputId": "7e71e045-8e4f-4198-8175-fa48893d1f65"
      },
      "outputs": [
        {
          "output_type": "stream",
          "name": "stdout",
          "text": [
            "Manish\n",
            "325\n",
            "{'apple': [10, 10], 'chocolate': [5, 20], 'biscuit': [25, 5]}\n",
            "{'biscuit': [30, 3]}\n",
            "330\n",
            "{}\n"
          ]
        }
      ],
      "source": [
        "class Salesperson:\n",
        "  \n",
        "  record = {}\n",
        "  value = 0\n",
        "  def __init__(self, name:str):\n",
        "    self.name = name\n",
        "\n",
        "  def get_name(self):\n",
        "    return f\"{self.name}\"\n",
        "  \n",
        "  def buy_pro(self, product_name, market_price, quantity):\n",
        "    self.product_name = product_name\n",
        "    self.market_price = market_price\n",
        "    self.quantity = quantity\n",
        "\n",
        "    self.record[self.product_name] = [self.market_price,self.quantity]\n",
        "    \n",
        "    self.value += self.record[self.product_name][0]*self.record[self.product_name][1]\n",
        "    \n",
        "  \n",
        "  def sell_pro(self, product_name, market_price, quantity):\n",
        "    self.product_name = product_name\n",
        "    self.market_price = market_price\n",
        "    self.quantity1 = quantity\n",
        "\n",
        "    real_quantity = self.record[self.product_name][1] - self.quantity1\n",
        "    \n",
        "    if real_quantity == 0:\n",
        "      self.value += (market_price-self.record[self.product_name][0])*self.record[self.product_name][1]\n",
        "      del self.record[self.product_name]\n",
        "    else:\n",
        "      self.record[self.product_name] = [self.market_price,real_quantity]\n",
        "      self.value += (market_price-self.record[self.product_name][0])*self.record[self.product_name][1]\n",
        "  def get_record(self):\n",
        "    return self.record\n",
        "  def get_value(self):\n",
        "    return self.value\n",
        "\n",
        "person_A = Salesperson(\"Manish\")\n",
        "print(person_A.get_name())\n",
        "person_A.buy_pro(\"apple\", 10, 10)\n",
        "person_A.buy_pro(\"chocolate\", 5, 20)\n",
        "person_A.buy_pro(\"biscuit\", 25, 5)\n",
        "print(person_A.get_value())\n",
        "print(person_A.get_record())\n",
        "person_A.sell_pro(\"apple\", 12, 10)\n",
        "person_A.sell_pro(\"chocolate\", 5, 20)\n",
        "person_A.sell_pro(\"biscuit\", 30, 2)\n",
        "print(person_A.get_record())\n",
        "person_A.sell_pro(\"biscuit\", 25, 3)\n",
        "print(person_A.get_value())\n",
        "print(person_A.get_record())"
      ]
    },
    {
      "cell_type": "markdown",
      "source": [
        "## **Problem 02**\n",
        "\n",
        "### **Student Records**\n",
        "\n",
        "You are given a file records.csv containing the data for few students. Kindly take a look at the file. In this question, you shall write a Python class called Records, which shall have four methods, and two member dictionaries The first dictionary shall be used to store student records, and the second a GPA scale:\n",
        "\n",
        "1. **__init__(self, filename):**\n",
        "This is the constructor method for the class. It should take the filename given as input (e.g. records.csv), and populate the first dictionary as follows:\n",
        "    * the keys of the dictionary should be student names\n",
        "    * the values of the dictionary should be a list, containing Department Year, Course1 grade, Course2 grade,Course3 grade, and Course4 grade. This is the information that appears in the file records.csv for each student. E.g. ```{'Jd': ['CS', 'Fresher', 'C+', 'D+' , 'F', 'D-'], ...}```\n",
        "\n",
        "This method should also populate the second dictionary, a grade-to-numerical value map, whose keys should be the letter grades from A+ to F, and whose values should be the numerical GPA for the letter grade that Purdue has in its grading system, e.g.\n",
        "```python\n",
        "{\n",
        "    'A+': 4.3,\n",
        "    'A': 4.0,\n",
        "    'A-': 3.7,\n",
        "    'B+': 3.3,\n",
        "    'B': 3.0,\n",
        "    'B-': 2.7,\n",
        "    'C+': 2.3,\n",
        "    'C': 2.0,\n",
        "    'C-': 1.7,\n",
        "    'D+': 1.3,\n",
        "    'D': 1.0,\n",
        "    'D-': 0.7,\n",
        "    'F': 0.0\n",
        "}\n",
        "```\n",
        "2. **get_records(self, student):**\n",
        "This methods should take a student name as input, and look up the record of this student in the first dictionary created by the __init__() method. If the student exists in the records, then it should return the student's record which will be a list. If the student does not exist, then it should return a string saying **\"No record for <student> found!\"** (replace **<student>** with its actually string value).\n",
        "3. **insert_record(self, info):** \n",
        "This method should take a list containing a record for a student as input, e g. ```['Jason','Philosophy','Fresher','A','B','C','D']```, and insert it in the first dictionary prepared by the **__init__()** method. So after running this method, there should be a record for student Jason in dictionary, i.e. an entry like ```{..., 'Jason': ['Philosophy','Fresher','A','B','C','D'],...}```\n",
        "4. **compute_gpa(self, student):**\n",
        "This method shall take a student name as input. If the student exists in the first dictionary, then it should use the second dictionary, the grading scales, to compute and return the gpa for this student. Assume that each of the four courses whose grades are recorded are of 4 credit hours. If there is no record for the student passed as input, then the method should return a String saying **\"No record for <student> found!\"**."
      ],
      "metadata": {
        "id": "y8qekle923fN"
      }
    },
    {
      "cell_type": "code",
      "source": [
        "from typing import List, Union\n",
        "import csv\n",
        "class Records:\n",
        "\n",
        "    grades = { 'A+': 4.3,'A': 4.0,\n",
        "    'A-': 3.7,\n",
        "    'B+': 3.3,\n",
        "    'B': 3.0,\n",
        "    'B-': 2.7,\n",
        "    'C+': 2.3,\n",
        "    'C': 2.0,\n",
        "    'C-': 1.7,\n",
        "    'D+': 1.3,\n",
        "    'D': 1.0,\n",
        "    'D-': 0.7,\n",
        "    'F': 0.0\n",
        "  };\n",
        "    def __init__(self, filename):\n",
        "      self.filename = filename\n",
        "      self.dict_from_csv = {}\n",
        "\n",
        "      with open(self.filename, mode='r') as inp:\n",
        "        reader = csv.reader(inp)\n",
        "        self.dict_from_csv = {rows[0]:rows[1:] for rows in reader}\n",
        "\n",
        "    \n",
        "    def get_records(self, student):\n",
        "      self.student = student\n",
        "      if self.student in self.dict_from_csv:\n",
        "        return self.dict_from_csv[self.student]\n",
        "      else:\n",
        "        return f\"No record for {self.student} found!\"\n",
        "    \n",
        "    def insert_record(self, info):\n",
        "      self.info = info\n",
        "      self.dict_from_csv[self.info[0]] = self.info[1:]\n",
        "    \n",
        "    def compute_gpa(self, student):\n",
        "      self.student = student\n",
        "      get_gpa = 0\n",
        "      if self.student in self.dict_from_csv:\n",
        "        for i in self.dict_from_csv[self.student][2:]:\n",
        "          get_gpa+=self.grades[i]\n",
        "        return f\"{get_gpa/4: 1f}\"\n",
        "      else:\n",
        "        return f\"No record for {self.student} found!\"\n",
        "\n",
        "\n",
        "student_record = Records('/content/student_records.csv')\n",
        "print(student_record.get_records('Gary'))\n",
        "print(student_record.get_records('Manish'))\n",
        "student_record.insert_record(['Manish', 'CS', 'Graduate', 'A', 'A+', 'B+', 'A+'])\n",
        "print(student_record.get_records('Manish'))\n",
        "print(student_record.compute_gpa('Manish'))"
      ],
      "metadata": {
        "colab": {
          "base_uri": "https://localhost:8080/"
        },
        "id": "uPIUChE97925",
        "outputId": "5795f502-cb10-416a-894f-e69133b9f308"
      },
      "execution_count": null,
      "outputs": [
        {
          "output_type": "stream",
          "name": "stdout",
          "text": [
            "['Aerospace', 'Junior', 'F', 'A', 'B+', 'B+']\n",
            "No record for Manish found!\n",
            "['CS', 'Graduate', 'A', 'A+', 'B+', 'A+']\n",
            " 3.975000\n"
          ]
        }
      ]
    }
  ]
}